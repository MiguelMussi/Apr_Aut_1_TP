{
  "nbformat": 4,
  "nbformat_minor": 0,
  "metadata": {
    "colab": {
      "provenance": [],
      "collapsed_sections": [
        "LGOySINNUsZF",
        "WCG4iQz_fJat",
        "ZN1_RfwSWvOV",
        "kr1j1XT0WyjU",
        "jJklOolk9nSr",
        "mr2yTOxCUND3",
        "WVSoGAOqZAa9",
        "RZAPCH6sZEk4"
      ]
    },
    "kernelspec": {
      "name": "python3",
      "display_name": "Python 3"
    },
    "language_info": {
      "name": "python"
    }
  },
  "cells": [
    {
      "cell_type": "markdown",
      "source": [
        "## Librerías"
      ],
      "metadata": {
        "id": "LGOySINNUsZF"
      }
    },
    {
      "cell_type": "code",
      "execution_count": 2,
      "metadata": {
        "id": "yg8b24QvYffH"
      },
      "outputs": [],
      "source": [
        "# Data\n",
        "import pandas as pd\n",
        "import numpy as np\n",
        "from datetime import datetime\n",
        "\n",
        "# Preprocessing data\n",
        "from sklearn.preprocessing import StandardScaler\n",
        "from sklearn.model_selection import train_test_split\n",
        "\n",
        "# ML metrics\n",
        "from sklearn.metrics import mean_squared_error, r2_score, confusion_matrix, accuracy_score, roc_curve, roc_auc_score\n",
        "from sklearn.metrics import classification_report, precision_score, recall_score, f1_score, auc\n",
        "\n",
        "# Machine Learning Pipeline & process\n",
        "from sklearn.pipeline import Pipeline\n",
        "from sklearn.base import BaseEstimator, TransformerMixin\n",
        "import joblib\n",
        "\n",
        "# Warnings\n",
        "import warnings\n",
        "warnings.simplefilter('ignore')"
      ]
    },
    {
      "cell_type": "code",
      "source": [
        "import tensorflow as tf\n",
        "from sklearn.model_selection import RandomizedSearchCV, GridSearchCV\n",
        "from tensorflow.keras.models import Sequential, load_model, save_model\n",
        "from tensorflow.keras.layers import Dense, Dropout\n",
        "from tensorflow.keras.utils import to_categorical\n",
        "from keras.models import load_model"
      ],
      "metadata": {
        "id": "rtK-zLtJ0urT"
      },
      "execution_count": 3,
      "outputs": []
    },
    {
      "cell_type": "code",
      "source": [
        "from google.colab import drive\n",
        "drive.mount('/content/drive')"
      ],
      "metadata": {
        "id": "2zvR_pPdhCou",
        "colab": {
          "base_uri": "https://localhost:8080/"
        },
        "outputId": "951af03a-8cad-4ceb-dddf-8ce10a14e36b"
      },
      "execution_count": 3,
      "outputs": [
        {
          "output_type": "stream",
          "name": "stdout",
          "text": [
            "Mounted at /content/drive\n"
          ]
        }
      ]
    },
    {
      "cell_type": "markdown",
      "source": [
        "## Intro"
      ],
      "metadata": {
        "id": "WCG4iQz_fJat"
      }
    },
    {
      "cell_type": "code",
      "source": [
        "df_original = pd.read_csv('/content/drive/MyDrive/weatherAUS.csv', sep=',', engine='python')"
      ],
      "metadata": {
        "id": "o4MH7RLIuz9Y"
      },
      "execution_count": 4,
      "outputs": []
    },
    {
      "cell_type": "code",
      "source": [
        "# Copia del DF original con los registros correspondientes a la costa sureste\n",
        "ciudades_a_conservar = ['Sydney', 'SydneyAirport', 'Canberra', 'Melbourne', 'MelbourneAirport']\n",
        "df = df_original[df_original['Location'].isin(ciudades_a_conservar)].copy()\n",
        "df['Location'] = df['Location'].astype('category')\n",
        "# Agrupar por etiqueta y contar la frecuencia\n",
        "Location_frec = df['Location'].value_counts()\n",
        "Location_frec"
      ],
      "metadata": {
        "colab": {
          "base_uri": "https://localhost:8080/"
        },
        "id": "kVhIyMJW3T7Z",
        "outputId": "b8681f16-2660-4a3a-e1af-80b2bed708e0"
      },
      "execution_count": 5,
      "outputs": [
        {
          "output_type": "execute_result",
          "data": {
            "text/plain": [
              "Canberra            3435\n",
              "Sydney              3343\n",
              "Melbourne           3192\n",
              "MelbourneAirport    3008\n",
              "SydneyAirport       3008\n",
              "Name: Location, dtype: int64"
            ]
          },
          "metadata": {},
          "execution_count": 5
        }
      ]
    },
    {
      "cell_type": "code",
      "source": [
        "df = df.drop(['Unnamed: 0'], axis=1)"
      ],
      "metadata": {
        "id": "uugmwybu3Ej6"
      },
      "execution_count": 6,
      "outputs": []
    },
    {
      "cell_type": "code",
      "source": [
        "df.dropna(subset=['RainToday', 'RainTomorrow'], inplace=True)"
      ],
      "metadata": {
        "id": "sYbGHabe3z_F"
      },
      "execution_count": 7,
      "outputs": []
    },
    {
      "cell_type": "code",
      "source": [
        "# Imputación por moda para cada ciudad\n",
        "df['WindGustDir'] = df.groupby('Location')['WindGustDir'].transform(lambda x: x.fillna(x.mode()[0]))\n",
        "df['WindDir9am'] = df.groupby('Location')['WindDir9am'].transform(lambda x: x.fillna(x.mode()[0]))\n",
        "df['WindDir3pm'] = df.groupby('Location')['WindDir3pm'].transform(lambda x: x.fillna(x.mode()[0]))"
      ],
      "metadata": {
        "id": "CS_HRUu48cGa"
      },
      "execution_count": 8,
      "outputs": []
    },
    {
      "cell_type": "code",
      "source": [
        "df = df.drop(['Location'], axis=1)"
      ],
      "metadata": {
        "id": "szvfevMd6YF_"
      },
      "execution_count": 9,
      "outputs": []
    },
    {
      "cell_type": "code",
      "source": [
        "# Lista de variables numéricas\n",
        "t = (df.dtypes == \"float64\")\n",
        "num_cols = list(t[t].index)\n",
        "# Se reemplaza valores nulos por las medianas de cada columna que los contiene\n",
        "for i in num_cols:\n",
        "    df[i].fillna(df[i].median(), inplace=True)"
      ],
      "metadata": {
        "id": "8s10s-9T55_f"
      },
      "execution_count": 10,
      "outputs": []
    },
    {
      "cell_type": "code",
      "source": [
        "df = df.copy().reset_index(drop=True)"
      ],
      "metadata": {
        "id": "M4jA_zZF6DRI"
      },
      "execution_count": 11,
      "outputs": []
    },
    {
      "cell_type": "code",
      "source": [
        "df.shape"
      ],
      "metadata": {
        "colab": {
          "base_uri": "https://localhost:8080/"
        },
        "id": "4HtMgLRB9U01",
        "outputId": "802ca401-c83b-42f2-9a94-40c1cdc46e28"
      },
      "execution_count": 12,
      "outputs": [
        {
          "output_type": "execute_result",
          "data": {
            "text/plain": [
              "(15036, 23)"
            ]
          },
          "metadata": {},
          "execution_count": 12
        }
      ]
    },
    {
      "cell_type": "code",
      "source": [
        "pipe_train, pipe_test = train_test_split(df, test_size=0.2, random_state=42)"
      ],
      "metadata": {
        "id": "L3nbpOMH9zxO"
      },
      "execution_count": 13,
      "outputs": []
    },
    {
      "cell_type": "code",
      "source": [
        "pipe_train.shape, pipe_test.shape"
      ],
      "metadata": {
        "colab": {
          "base_uri": "https://localhost:8080/"
        },
        "id": "nyzslByG-nyH",
        "outputId": "bb32a588-8258-40b1-dcbb-02c96561524a"
      },
      "execution_count": 14,
      "outputs": [
        {
          "output_type": "execute_result",
          "data": {
            "text/plain": [
              "((12028, 23), (3008, 23))"
            ]
          },
          "metadata": {},
          "execution_count": 14
        }
      ]
    },
    {
      "cell_type": "code",
      "source": [
        "X_pipe_train = pipe_train.drop(['RainfallTomorrow', 'RainTomorrow'], axis=1).copy()\n",
        "y_pipe_train = pipe_train[['RainfallTomorrow', 'RainTomorrow']].copy()\n",
        "\n",
        "X_pipe_test = pipe_test.drop(['RainfallTomorrow', 'RainTomorrow'], axis=1).copy()\n",
        "y_pipe_test = pipe_test[['RainfallTomorrow', 'RainTomorrow']].copy()"
      ],
      "metadata": {
        "id": "c_ryvvLw-8Nf"
      },
      "execution_count": 15,
      "outputs": []
    },
    {
      "cell_type": "code",
      "source": [
        "X_pipe_train.shape, y_pipe_train.shape, X_pipe_test.shape, y_pipe_test.shape"
      ],
      "metadata": {
        "colab": {
          "base_uri": "https://localhost:8080/"
        },
        "id": "W_V4nWuy_g8e",
        "outputId": "c25fcab2-c3e4-4292-daf5-0c641602c048"
      },
      "execution_count": 16,
      "outputs": [
        {
          "output_type": "execute_result",
          "data": {
            "text/plain": [
              "((12028, 21), (12028, 2), (3008, 21), (3008, 2))"
            ]
          },
          "metadata": {},
          "execution_count": 16
        }
      ]
    },
    {
      "cell_type": "code",
      "source": [
        "y_pipe_train_clf = y_pipe_train['RainTomorrow'].copy()\n",
        "y_pipe_train_reg = y_pipe_train['RainfallTomorrow'].copy()\n",
        "\n",
        "y_pipe_test_clf = y_pipe_test['RainTomorrow'].copy()\n",
        "y_pipe_test_reg = y_pipe_test['RainfallTomorrow'].copy()"
      ],
      "metadata": {
        "id": "t2VVUznUNwMn"
      },
      "execution_count": 17,
      "outputs": []
    },
    {
      "cell_type": "code",
      "source": [
        "y_pipe_train_clf.shape, y_pipe_train_reg.shape, y_pipe_test_clf.shape, y_pipe_test_reg.shape"
      ],
      "metadata": {
        "colab": {
          "base_uri": "https://localhost:8080/"
        },
        "id": "YTYt8U5rPR_m",
        "outputId": "440fc312-2e61-4987-e33d-ea3504f2d5e2"
      },
      "execution_count": 18,
      "outputs": [
        {
          "output_type": "execute_result",
          "data": {
            "text/plain": [
              "((12028,), (12028,), (3008,), (3008,))"
            ]
          },
          "metadata": {},
          "execution_count": 18
        }
      ]
    },
    {
      "cell_type": "markdown",
      "source": [
        "Extracción de fechas (+1)"
      ],
      "metadata": {
        "id": "eYR8J3-o3I0o"
      }
    },
    {
      "cell_type": "markdown",
      "source": [
        "Recategorización de coordenadas (+3)"
      ],
      "metadata": {
        "id": "3NCgRPxF3gpx"
      }
    },
    {
      "cell_type": "markdown",
      "source": [
        "Recategorización Yes/No"
      ],
      "metadata": {
        "id": "GmYcrRyf59IM"
      }
    },
    {
      "cell_type": "markdown",
      "source": [
        "## Clases"
      ],
      "metadata": {
        "id": "ZN1_RfwSWvOV"
      }
    },
    {
      "cell_type": "code",
      "source": [
        "class DateExtraction(BaseEstimator, TransformerMixin):\n",
        "    def fit(self, X, y=None):\n",
        "        return self\n",
        "\n",
        "    def transform(self, X):\n",
        "        # Asegurar que X es un DataFrame\n",
        "        if not isinstance(X, pd.DataFrame):\n",
        "            X = pd.DataFrame(X, columns=['Date'])\n",
        "\n",
        "        # Convertir la columna 'Date' a datetime\n",
        "        X['Date'] = pd.to_datetime(X['Date'])\n",
        "\n",
        "        # Extraer el mes y calcular las funciones sin y cos\n",
        "        X['Month_sin'] = np.sin(2 * np.pi * X['Date'].dt.month / 12).round(5)\n",
        "        X['Month_cos'] = np.cos(2 * np.pi * X['Date'].dt.month / 12).round(5)\n",
        "\n",
        "        # Eliminar la columna original 'Date'\n",
        "        X = X.drop(['Date'], axis=1)\n",
        "\n",
        "        # Devolver un array de NumPy X.values\n",
        "        return X"
      ],
      "metadata": {
        "id": "yJTXL9XWFKf-"
      },
      "execution_count": 15,
      "outputs": []
    },
    {
      "cell_type": "code",
      "source": [
        "class CoordRecat(BaseEstimator, TransformerMixin):\n",
        "    def fit(self, X, y=None):\n",
        "        return self\n",
        "\n",
        "    def transform(self, X):\n",
        "        mapeo_coord = {\n",
        "            'E': 0, 'ENE': 22.5, 'NE': 45, 'NNE': 67.5,\n",
        "            'N': 90, 'NNW': 112.5, 'NW': 135, 'WNW': 157.5,\n",
        "            'W': 180, 'WSW': 202.5, 'SW': 225, 'SSW': 247.5,\n",
        "            'S': 270, 'SSE': 292.5, 'SE': 315, 'ESE': 337.5,\n",
        "        }\n",
        "\n",
        "        # Aplicar la recategorización\n",
        "        for col in ['WindGustDir', 'WindDir9am', 'WindDir3pm']:\n",
        "            X[col] = X[col].map(mapeo_coord)\n",
        "            X[f'{col}_rad'] = np.deg2rad(X[col])\n",
        "            X[f'{col}_sin'] = np.sin(X[f'{col}_rad']).round(5)\n",
        "            X[f'{col}_cos'] = np.cos(X[f'{col}_rad']).round(5)\n",
        "\n",
        "        # Eliminar columnas originales y columnas radianes\n",
        "        columns_to_drop = [f'{col}_rad' for col in ['WindGustDir', 'WindDir9am', 'WindDir3pm']] + ['WindGustDir', 'WindDir9am', 'WindDir3pm']\n",
        "        X = X.drop(columns=columns_to_drop, axis=1)\n",
        "\n",
        "        return X"
      ],
      "metadata": {
        "id": "paWs4Hz4FNum"
      },
      "execution_count": 4,
      "outputs": []
    },
    {
      "cell_type": "code",
      "source": [
        "class YesNoRecat(BaseEstimator, TransformerMixin):\n",
        "    def fit(self, X, y=None):\n",
        "        return self\n",
        "\n",
        "    def transform(self, X):\n",
        "        # Mapear 'No' a 0 y 'Yes' a 1\n",
        "        X['RainToday'] = X['RainToday'].map({'No': 0, 'Yes': 1}).astype(float)\n",
        "        return X"
      ],
      "metadata": {
        "id": "gNUjeGH9FPRe"
      },
      "execution_count": 5,
      "outputs": []
    },
    {
      "cell_type": "code",
      "source": [
        "class StandardScalerTransformer(BaseEstimator, TransformerMixin):\n",
        "    def __init__(self):\n",
        "        self.columns_to_scale = None\n",
        "        self.scaler = StandardScaler()\n",
        "\n",
        "    def fit(self, X, y=None):\n",
        "        self.columns_to_scale = X.columns\n",
        "        self.scaler.fit(X)\n",
        "        return self\n",
        "\n",
        "    def transform(self, X):\n",
        "        # Aplicar la estandarización a todas las columnas\n",
        "        X[self.columns_to_scale] = self.scaler.transform(X[self.columns_to_scale])\n",
        "\n",
        "        return X"
      ],
      "metadata": {
        "id": "h2oQAh1TFTfz"
      },
      "execution_count": 6,
      "outputs": []
    },
    {
      "cell_type": "code",
      "source": [
        "class ManualStandardScaler(BaseEstimator, TransformerMixin):\n",
        "    def __init__(self, scaler_path='scaler_model_25.pkl'):\n",
        "        self.scaler_path = scaler_path\n",
        "        self.mean_ = None\n",
        "        self.scale_ = None\n",
        "        self.exclude_columns = ['RainToday']\n",
        "\n",
        "    def fit(self, X, y=None):\n",
        "        # Cargar el scaler previamente ajustado\n",
        "        scaler = joblib.load(self.scaler_path)\n",
        "        # Excluir las columnas especificadas del ajuste del scaler\n",
        "        columns_to_scale = [col for col in X.columns if col not in self.exclude_columns]\n",
        "        self.mean_ = scaler.mean_\n",
        "        self.scale_ = scaler.scale_\n",
        "        return self\n",
        "\n",
        "    def transform(self, X):\n",
        "        # Excluir las columnas especificadas de la transformación\n",
        "        columns_to_scale = [col for col in X.columns if col not in self.exclude_columns]\n",
        "\n",
        "        # Asegurar que las columnas a escalar estén presentes en X\n",
        "        if not set(columns_to_scale).issubset(set(X.columns)):\n",
        "            raise ValueError(\"Columns to scale not found in input DataFrame.\")\n",
        "\n",
        "        # Calcular la normalización manualmente\n",
        "        X_scaled = (X[columns_to_scale] - self.mean_) / self.scale_\n",
        "\n",
        "        # Mantener las columnas excluidas sin cambios\n",
        "        X_scaled[self.exclude_columns] = X[self.exclude_columns]\n",
        "\n",
        "        return X_scaled"
      ],
      "metadata": {
        "id": "pBh9iVZY8a-N"
      },
      "execution_count": 88,
      "outputs": []
    },
    {
      "cell_type": "code",
      "source": [
        "# class ClassifierModel(BaseEstimator, TransformerMixin):\n",
        "#     def __init__(self, model=None):\n",
        "#         self.model = model\n",
        "\n",
        "#     def fit(self, X, y):\n",
        "#         # Obtener las dimensiones de entrada\n",
        "#         input_shape = X.shape[1]\n",
        "\n",
        "#         # Definir la arquitectura del modelo\n",
        "#         self.model = tf.keras.Sequential([\n",
        "#             tf.keras.layers.Dense(128, activation='relu', input_shape=(input_shape,)),\n",
        "#             tf.keras.layers.Dropout(0.5),\n",
        "#             tf.keras.layers.Dense(64, activation='relu'),\n",
        "#             tf.keras.layers.Dropout(0.3),\n",
        "#             tf.keras.layers.Dense(1, activation='sigmoid')\n",
        "#         ])\n",
        "\n",
        "#         # Compilar el modelo\n",
        "#         self.model.compile(optimizer='adam', loss='binary_crossentropy', metrics=['mean_squared_error'])\n",
        "\n",
        "#         # Convertir las etiquetas a un formato adecuado para el modelo\n",
        "#         y = np.array(y).reshape(-1, 1)\n",
        "\n",
        "#         # Entrenar el modelo\n",
        "#         self.model.fit(X, y, epochs=10, batch_size=32, validation_split=0.2)\n",
        "\n",
        "#         return self\n",
        "\n",
        "#     def transform(self, X):\n",
        "#         # Convertir a float32\n",
        "#         X = X.astype('float32')\n",
        "\n",
        "#         # Devolver las predicciones del modelo\n",
        "#         return self.model.predict(X)"
      ],
      "metadata": {
        "id": "gGgTwqWwKrHP"
      },
      "execution_count": 25,
      "outputs": []
    },
    {
      "cell_type": "code",
      "source": [
        "class ClassifierModel(BaseEstimator, TransformerMixin):\n",
        "    def __init__(self, model_path='nn_clf_model.h5'):\n",
        "        self.model_path = model_path\n",
        "        self.model = None\n",
        "\n",
        "    def fit(self, X, y=None):\n",
        "        return self\n",
        "\n",
        "    def transform(self, X):\n",
        "        if self.model is None:\n",
        "            self.model = load_model(self.model_path)\n",
        "\n",
        "        # Realizar predicciones\n",
        "        clf_pred = self.model.predict(X)\n",
        "        return clf_pred\n",
        "\n",
        "    def predict(self, X):\n",
        "        return self.transform(X)"
      ],
      "metadata": {
        "id": "pPmGMs_-9Wlu"
      },
      "execution_count": 8,
      "outputs": []
    },
    {
      "cell_type": "code",
      "source": [
        "class RegressorModel(BaseEstimator, TransformerMixin):\n",
        "    def __init__(self, model_path='nn_reg_model.h5'):\n",
        "        self.model_path = model_path\n",
        "        self.model = None\n",
        "\n",
        "    def fit(self, X, y=None):\n",
        "        return self\n",
        "\n",
        "    def transform(self, X):\n",
        "        if self.model is None:\n",
        "            self.model = load_model(self.model_path)\n",
        "\n",
        "        # Realizar predicciones\n",
        "        clf_pred = self.model.predict(X)\n",
        "        return clf_pred\n",
        "\n",
        "    def predict(self, X):\n",
        "        return self.transform(X)\n"
      ],
      "metadata": {
        "id": "fmEWoGOF8RzO"
      },
      "execution_count": 9,
      "outputs": []
    },
    {
      "cell_type": "code",
      "source": [
        "date_extraction = DateExtraction()\n",
        "coord_recat = CoordRecat()\n",
        "yes_no_recat = YesNoRecat()\n",
        "# standard_scaler_transf = StandardScalerTransformer()\n",
        "manual_scaler = ManualStandardScaler()"
      ],
      "metadata": {
        "id": "E02tjw-R3xz2"
      },
      "execution_count": 89,
      "outputs": []
    },
    {
      "cell_type": "markdown",
      "source": [
        "## Pipeline"
      ],
      "metadata": {
        "id": "kr1j1XT0WyjU"
      }
    },
    {
      "cell_type": "code",
      "source": [
        "pipe_clf = Pipeline([\n",
        "    ('date_extraction', DateExtraction()),\n",
        "    ('coord_recat', CoordRecat()),\n",
        "    ('yesno_recat', YesNoRecat()),\n",
        "    ('standard_scaler', StandardScalerTransformer()),\n",
        "    ('classifier_model', ClassifierModel()),\n",
        "])\n",
        "pipe_clf"
      ],
      "metadata": {
        "colab": {
          "base_uri": "https://localhost:8080/",
          "height": 232
        },
        "id": "hEh8ArTiFANZ",
        "outputId": "c7a2be51-59f9-4f6c-9537-5e38916d5921"
      },
      "execution_count": 162,
      "outputs": [
        {
          "output_type": "execute_result",
          "data": {
            "text/plain": [
              "Pipeline(steps=[('date_extraction', DateExtraction()),\n",
              "                ('coord_recat', CoordRecat()), ('yesno_recat', YesNoRecat()),\n",
              "                ('standard_scaler', StandardScalerTransformer()),\n",
              "                ('classifier_model', ClassifierModel())])"
            ],
            "text/html": [
              "<style>#sk-container-id-14 {color: black;background-color: white;}#sk-container-id-14 pre{padding: 0;}#sk-container-id-14 div.sk-toggleable {background-color: white;}#sk-container-id-14 label.sk-toggleable__label {cursor: pointer;display: block;width: 100%;margin-bottom: 0;padding: 0.3em;box-sizing: border-box;text-align: center;}#sk-container-id-14 label.sk-toggleable__label-arrow:before {content: \"▸\";float: left;margin-right: 0.25em;color: #696969;}#sk-container-id-14 label.sk-toggleable__label-arrow:hover:before {color: black;}#sk-container-id-14 div.sk-estimator:hover label.sk-toggleable__label-arrow:before {color: black;}#sk-container-id-14 div.sk-toggleable__content {max-height: 0;max-width: 0;overflow: hidden;text-align: left;background-color: #f0f8ff;}#sk-container-id-14 div.sk-toggleable__content pre {margin: 0.2em;color: black;border-radius: 0.25em;background-color: #f0f8ff;}#sk-container-id-14 input.sk-toggleable__control:checked~div.sk-toggleable__content {max-height: 200px;max-width: 100%;overflow: auto;}#sk-container-id-14 input.sk-toggleable__control:checked~label.sk-toggleable__label-arrow:before {content: \"▾\";}#sk-container-id-14 div.sk-estimator input.sk-toggleable__control:checked~label.sk-toggleable__label {background-color: #d4ebff;}#sk-container-id-14 div.sk-label input.sk-toggleable__control:checked~label.sk-toggleable__label {background-color: #d4ebff;}#sk-container-id-14 input.sk-hidden--visually {border: 0;clip: rect(1px 1px 1px 1px);clip: rect(1px, 1px, 1px, 1px);height: 1px;margin: -1px;overflow: hidden;padding: 0;position: absolute;width: 1px;}#sk-container-id-14 div.sk-estimator {font-family: monospace;background-color: #f0f8ff;border: 1px dotted black;border-radius: 0.25em;box-sizing: border-box;margin-bottom: 0.5em;}#sk-container-id-14 div.sk-estimator:hover {background-color: #d4ebff;}#sk-container-id-14 div.sk-parallel-item::after {content: \"\";width: 100%;border-bottom: 1px solid gray;flex-grow: 1;}#sk-container-id-14 div.sk-label:hover label.sk-toggleable__label {background-color: #d4ebff;}#sk-container-id-14 div.sk-serial::before {content: \"\";position: absolute;border-left: 1px solid gray;box-sizing: border-box;top: 0;bottom: 0;left: 50%;z-index: 0;}#sk-container-id-14 div.sk-serial {display: flex;flex-direction: column;align-items: center;background-color: white;padding-right: 0.2em;padding-left: 0.2em;position: relative;}#sk-container-id-14 div.sk-item {position: relative;z-index: 1;}#sk-container-id-14 div.sk-parallel {display: flex;align-items: stretch;justify-content: center;background-color: white;position: relative;}#sk-container-id-14 div.sk-item::before, #sk-container-id-14 div.sk-parallel-item::before {content: \"\";position: absolute;border-left: 1px solid gray;box-sizing: border-box;top: 0;bottom: 0;left: 50%;z-index: -1;}#sk-container-id-14 div.sk-parallel-item {display: flex;flex-direction: column;z-index: 1;position: relative;background-color: white;}#sk-container-id-14 div.sk-parallel-item:first-child::after {align-self: flex-end;width: 50%;}#sk-container-id-14 div.sk-parallel-item:last-child::after {align-self: flex-start;width: 50%;}#sk-container-id-14 div.sk-parallel-item:only-child::after {width: 0;}#sk-container-id-14 div.sk-dashed-wrapped {border: 1px dashed gray;margin: 0 0.4em 0.5em 0.4em;box-sizing: border-box;padding-bottom: 0.4em;background-color: white;}#sk-container-id-14 div.sk-label label {font-family: monospace;font-weight: bold;display: inline-block;line-height: 1.2em;}#sk-container-id-14 div.sk-label-container {text-align: center;}#sk-container-id-14 div.sk-container {/* jupyter's `normalize.less` sets `[hidden] { display: none; }` but bootstrap.min.css set `[hidden] { display: none !important; }` so we also need the `!important` here to be able to override the default hidden behavior on the sphinx rendered scikit-learn.org. See: https://github.com/scikit-learn/scikit-learn/issues/21755 */display: inline-block !important;position: relative;}#sk-container-id-14 div.sk-text-repr-fallback {display: none;}</style><div id=\"sk-container-id-14\" class=\"sk-top-container\"><div class=\"sk-text-repr-fallback\"><pre>Pipeline(steps=[(&#x27;date_extraction&#x27;, DateExtraction()),\n",
              "                (&#x27;coord_recat&#x27;, CoordRecat()), (&#x27;yesno_recat&#x27;, YesNoRecat()),\n",
              "                (&#x27;standard_scaler&#x27;, StandardScalerTransformer()),\n",
              "                (&#x27;classifier_model&#x27;, ClassifierModel())])</pre><b>In a Jupyter environment, please rerun this cell to show the HTML representation or trust the notebook. <br />On GitHub, the HTML representation is unable to render, please try loading this page with nbviewer.org.</b></div><div class=\"sk-container\" hidden><div class=\"sk-item sk-dashed-wrapped\"><div class=\"sk-label-container\"><div class=\"sk-label sk-toggleable\"><input class=\"sk-toggleable__control sk-hidden--visually\" id=\"sk-estimator-id-70\" type=\"checkbox\" ><label for=\"sk-estimator-id-70\" class=\"sk-toggleable__label sk-toggleable__label-arrow\">Pipeline</label><div class=\"sk-toggleable__content\"><pre>Pipeline(steps=[(&#x27;date_extraction&#x27;, DateExtraction()),\n",
              "                (&#x27;coord_recat&#x27;, CoordRecat()), (&#x27;yesno_recat&#x27;, YesNoRecat()),\n",
              "                (&#x27;standard_scaler&#x27;, StandardScalerTransformer()),\n",
              "                (&#x27;classifier_model&#x27;, ClassifierModel())])</pre></div></div></div><div class=\"sk-serial\"><div class=\"sk-item\"><div class=\"sk-estimator sk-toggleable\"><input class=\"sk-toggleable__control sk-hidden--visually\" id=\"sk-estimator-id-71\" type=\"checkbox\" ><label for=\"sk-estimator-id-71\" class=\"sk-toggleable__label sk-toggleable__label-arrow\">DateExtraction</label><div class=\"sk-toggleable__content\"><pre>DateExtraction()</pre></div></div></div><div class=\"sk-item\"><div class=\"sk-estimator sk-toggleable\"><input class=\"sk-toggleable__control sk-hidden--visually\" id=\"sk-estimator-id-72\" type=\"checkbox\" ><label for=\"sk-estimator-id-72\" class=\"sk-toggleable__label sk-toggleable__label-arrow\">CoordRecat</label><div class=\"sk-toggleable__content\"><pre>CoordRecat()</pre></div></div></div><div class=\"sk-item\"><div class=\"sk-estimator sk-toggleable\"><input class=\"sk-toggleable__control sk-hidden--visually\" id=\"sk-estimator-id-73\" type=\"checkbox\" ><label for=\"sk-estimator-id-73\" class=\"sk-toggleable__label sk-toggleable__label-arrow\">YesNoRecat</label><div class=\"sk-toggleable__content\"><pre>YesNoRecat()</pre></div></div></div><div class=\"sk-item\"><div class=\"sk-estimator sk-toggleable\"><input class=\"sk-toggleable__control sk-hidden--visually\" id=\"sk-estimator-id-74\" type=\"checkbox\" ><label for=\"sk-estimator-id-74\" class=\"sk-toggleable__label sk-toggleable__label-arrow\">StandardScalerTransformer</label><div class=\"sk-toggleable__content\"><pre>StandardScalerTransformer()</pre></div></div></div><div class=\"sk-item\"><div class=\"sk-estimator sk-toggleable\"><input class=\"sk-toggleable__control sk-hidden--visually\" id=\"sk-estimator-id-75\" type=\"checkbox\" ><label for=\"sk-estimator-id-75\" class=\"sk-toggleable__label sk-toggleable__label-arrow\">ClassifierModel</label><div class=\"sk-toggleable__content\"><pre>ClassifierModel()</pre></div></div></div></div></div></div></div>"
            ]
          },
          "metadata": {},
          "execution_count": 162
        }
      ]
    },
    {
      "cell_type": "markdown",
      "source": [
        "## Fit Transform - Train"
      ],
      "metadata": {
        "id": "jJklOolk9nSr"
      }
    },
    {
      "cell_type": "code",
      "source": [
        "# Aplica clase al conjunto de entrenamiento\n",
        "# X_pipe_train_transformed = date_extraction.fit_transform(X_pipe_train)\n",
        "# X_pipe_train_transformed = coord_recat.fit_transform(X_pipe_train_transformed)\n",
        "# X_pipe_train_transformed = yes_no_recat.fit_transform(X_pipe_train_transformed)\n",
        "# X_pipe_train_transformed = standard_scaler_transf.fit_transform(X_pipe_train_transformed)\n",
        "# X_pipe_train_transformed = manual_scaler.fit_transform(X_pipe_train_transformed)\n",
        "\n",
        "# Imprime el DataFrame resultante\n",
        "# X_pipe_train_transformed"
      ],
      "metadata": {
        "id": "eRWV_5_iUVxY"
      },
      "execution_count": 127,
      "outputs": []
    },
    {
      "cell_type": "markdown",
      "source": [
        "## Test"
      ],
      "metadata": {
        "id": "mr2yTOxCUND3"
      }
    },
    {
      "cell_type": "code",
      "source": [
        "# Definir los datos de entrada - 21 características\n",
        "data = {\n",
        "    'Date': ['2023-01-17'],\n",
        "    'MinTemp': [20.00],\n",
        "    'MaxTemp': [25.00],\n",
        "    'Rainfall': [20.00],\n",
        "    'Evaporation': [2.20],\n",
        "    'Sunshine': [1.00],\n",
        "    'WindGustSpeed': [45.00],\n",
        "    'WindSpeed9am': [8.00],\n",
        "    'WindSpeed3pm': [5.00],\n",
        "    'Humidity9am': [35.00],\n",
        "    'Humidity3pm': [95.00],\n",
        "    'Pressure9am': [1015.00],\n",
        "    'Pressure3pm': [1000.00],\n",
        "    'Cloud9am': [3.00],\n",
        "    'Cloud3pm': [9.00],\n",
        "    'Temp9am': [20.00],\n",
        "    'Temp3pm': [25.00],\n",
        "    'WindGustDir': ['NW'],\n",
        "    'WindDir9am': ['NNW'],\n",
        "    'WindDir3pm': ['NW'],\n",
        "    'RainToday': ['Yes']\n",
        "    }"
      ],
      "metadata": {
        "id": "IBXcIPUcUPVG"
      },
      "execution_count": 90,
      "outputs": []
    },
    {
      "cell_type": "code",
      "source": [
        "df_eval = pd.DataFrame(data)"
      ],
      "metadata": {
        "id": "69up3gO0UUJO"
      },
      "execution_count": 108,
      "outputs": []
    },
    {
      "cell_type": "code",
      "source": [
        "df_eval.shape"
      ],
      "metadata": {
        "colab": {
          "base_uri": "https://localhost:8080/"
        },
        "id": "rCHJShyzUYVH",
        "outputId": "e30e64db-044f-4d09-d334-87d29013564f"
      },
      "execution_count": 109,
      "outputs": [
        {
          "output_type": "execute_result",
          "data": {
            "text/plain": [
              "(1, 21)"
            ]
          },
          "metadata": {},
          "execution_count": 109
        }
      ]
    },
    {
      "cell_type": "code",
      "source": [
        "# Aplica clase al conjunto de evaluación\n",
        "X_eval_transformed = date_extraction.fit_transform(df_eval)\n",
        "X_eval_transformed = coord_recat.fit_transform(X_eval_transformed)\n",
        "X_eval_transformed = yes_no_recat.fit_transform(X_eval_transformed)\n",
        "# X_pipe_train_transformed = standard_scaler_transf.fit_transform(X_pipe_train_transformed)\n",
        "X_eval_transformed = manual_scaler.fit_transform(X_eval_transformed)\n",
        "\n",
        "# Imprime el DataFrame resultante\n",
        "X_eval_transformed"
      ],
      "metadata": {
        "colab": {
          "base_uri": "https://localhost:8080/",
          "height": 130
        },
        "id": "EhUQ0k2aUhVP",
        "outputId": "50e2cbf3-e8ea-4f7f-be89-41673f5c87b7"
      },
      "execution_count": 110,
      "outputs": [
        {
          "output_type": "execute_result",
          "data": {
            "text/plain": [
              "    MinTemp   MaxTemp  Rainfall  Evaporation  Sunshine  WindGustSpeed  \\\n",
              "0  1.425319  0.527723  2.390534    -0.901967 -1.670494       0.058533   \n",
              "\n",
              "   WindSpeed9am  WindSpeed3pm  Humidity9am  Humidity3pm  ...   Temp3pm  \\\n",
              "0     -0.827234     -1.767735    -2.170778     2.468048  ...  0.806024   \n",
              "\n",
              "   Month_sin  Month_cos  WindGustDir_sin  WindGustDir_cos  WindDir9am_sin  \\\n",
              "0   0.705769    1.24297         0.906032        -0.837132        1.088993   \n",
              "\n",
              "   WindDir9am_cos  WindDir3pm_sin  WindDir3pm_cos  RainToday  \n",
              "0       -0.178166        0.976239       -1.070635        1.0  \n",
              "\n",
              "[1 rows x 25 columns]"
            ],
            "text/html": [
              "\n",
              "  <div id=\"df-d20affdb-493f-440a-b9e6-965876853df7\" class=\"colab-df-container\">\n",
              "    <div>\n",
              "<style scoped>\n",
              "    .dataframe tbody tr th:only-of-type {\n",
              "        vertical-align: middle;\n",
              "    }\n",
              "\n",
              "    .dataframe tbody tr th {\n",
              "        vertical-align: top;\n",
              "    }\n",
              "\n",
              "    .dataframe thead th {\n",
              "        text-align: right;\n",
              "    }\n",
              "</style>\n",
              "<table border=\"1\" class=\"dataframe\">\n",
              "  <thead>\n",
              "    <tr style=\"text-align: right;\">\n",
              "      <th></th>\n",
              "      <th>MinTemp</th>\n",
              "      <th>MaxTemp</th>\n",
              "      <th>Rainfall</th>\n",
              "      <th>Evaporation</th>\n",
              "      <th>Sunshine</th>\n",
              "      <th>WindGustSpeed</th>\n",
              "      <th>WindSpeed9am</th>\n",
              "      <th>WindSpeed3pm</th>\n",
              "      <th>Humidity9am</th>\n",
              "      <th>Humidity3pm</th>\n",
              "      <th>...</th>\n",
              "      <th>Temp3pm</th>\n",
              "      <th>Month_sin</th>\n",
              "      <th>Month_cos</th>\n",
              "      <th>WindGustDir_sin</th>\n",
              "      <th>WindGustDir_cos</th>\n",
              "      <th>WindDir9am_sin</th>\n",
              "      <th>WindDir9am_cos</th>\n",
              "      <th>WindDir3pm_sin</th>\n",
              "      <th>WindDir3pm_cos</th>\n",
              "      <th>RainToday</th>\n",
              "    </tr>\n",
              "  </thead>\n",
              "  <tbody>\n",
              "    <tr>\n",
              "      <th>0</th>\n",
              "      <td>1.425319</td>\n",
              "      <td>0.527723</td>\n",
              "      <td>2.390534</td>\n",
              "      <td>-0.901967</td>\n",
              "      <td>-1.670494</td>\n",
              "      <td>0.058533</td>\n",
              "      <td>-0.827234</td>\n",
              "      <td>-1.767735</td>\n",
              "      <td>-2.170778</td>\n",
              "      <td>2.468048</td>\n",
              "      <td>...</td>\n",
              "      <td>0.806024</td>\n",
              "      <td>0.705769</td>\n",
              "      <td>1.24297</td>\n",
              "      <td>0.906032</td>\n",
              "      <td>-0.837132</td>\n",
              "      <td>1.088993</td>\n",
              "      <td>-0.178166</td>\n",
              "      <td>0.976239</td>\n",
              "      <td>-1.070635</td>\n",
              "      <td>1.0</td>\n",
              "    </tr>\n",
              "  </tbody>\n",
              "</table>\n",
              "<p>1 rows × 25 columns</p>\n",
              "</div>\n",
              "    <div class=\"colab-df-buttons\">\n",
              "\n",
              "  <div class=\"colab-df-container\">\n",
              "    <button class=\"colab-df-convert\" onclick=\"convertToInteractive('df-d20affdb-493f-440a-b9e6-965876853df7')\"\n",
              "            title=\"Convert this dataframe to an interactive table.\"\n",
              "            style=\"display:none;\">\n",
              "\n",
              "  <svg xmlns=\"http://www.w3.org/2000/svg\" height=\"24px\" viewBox=\"0 -960 960 960\">\n",
              "    <path d=\"M120-120v-720h720v720H120Zm60-500h600v-160H180v160Zm220 220h160v-160H400v160Zm0 220h160v-160H400v160ZM180-400h160v-160H180v160Zm440 0h160v-160H620v160ZM180-180h160v-160H180v160Zm440 0h160v-160H620v160Z\"/>\n",
              "  </svg>\n",
              "    </button>\n",
              "\n",
              "  <style>\n",
              "    .colab-df-container {\n",
              "      display:flex;\n",
              "      gap: 12px;\n",
              "    }\n",
              "\n",
              "    .colab-df-convert {\n",
              "      background-color: #E8F0FE;\n",
              "      border: none;\n",
              "      border-radius: 50%;\n",
              "      cursor: pointer;\n",
              "      display: none;\n",
              "      fill: #1967D2;\n",
              "      height: 32px;\n",
              "      padding: 0 0 0 0;\n",
              "      width: 32px;\n",
              "    }\n",
              "\n",
              "    .colab-df-convert:hover {\n",
              "      background-color: #E2EBFA;\n",
              "      box-shadow: 0px 1px 2px rgba(60, 64, 67, 0.3), 0px 1px 3px 1px rgba(60, 64, 67, 0.15);\n",
              "      fill: #174EA6;\n",
              "    }\n",
              "\n",
              "    .colab-df-buttons div {\n",
              "      margin-bottom: 4px;\n",
              "    }\n",
              "\n",
              "    [theme=dark] .colab-df-convert {\n",
              "      background-color: #3B4455;\n",
              "      fill: #D2E3FC;\n",
              "    }\n",
              "\n",
              "    [theme=dark] .colab-df-convert:hover {\n",
              "      background-color: #434B5C;\n",
              "      box-shadow: 0px 1px 3px 1px rgba(0, 0, 0, 0.15);\n",
              "      filter: drop-shadow(0px 1px 2px rgba(0, 0, 0, 0.3));\n",
              "      fill: #FFFFFF;\n",
              "    }\n",
              "  </style>\n",
              "\n",
              "    <script>\n",
              "      const buttonEl =\n",
              "        document.querySelector('#df-d20affdb-493f-440a-b9e6-965876853df7 button.colab-df-convert');\n",
              "      buttonEl.style.display =\n",
              "        google.colab.kernel.accessAllowed ? 'block' : 'none';\n",
              "\n",
              "      async function convertToInteractive(key) {\n",
              "        const element = document.querySelector('#df-d20affdb-493f-440a-b9e6-965876853df7');\n",
              "        const dataTable =\n",
              "          await google.colab.kernel.invokeFunction('convertToInteractive',\n",
              "                                                    [key], {});\n",
              "        if (!dataTable) return;\n",
              "\n",
              "        const docLinkHtml = 'Like what you see? Visit the ' +\n",
              "          '<a target=\"_blank\" href=https://colab.research.google.com/notebooks/data_table.ipynb>data table notebook</a>'\n",
              "          + ' to learn more about interactive tables.';\n",
              "        element.innerHTML = '';\n",
              "        dataTable['output_type'] = 'display_data';\n",
              "        await google.colab.output.renderOutput(dataTable, element);\n",
              "        const docLink = document.createElement('div');\n",
              "        docLink.innerHTML = docLinkHtml;\n",
              "        element.appendChild(docLink);\n",
              "      }\n",
              "    </script>\n",
              "  </div>\n",
              "\n",
              "\n",
              "  <div id=\"id_3d32044f-7953-47b3-bf9d-18cfcb6f413c\">\n",
              "    <style>\n",
              "      .colab-df-generate {\n",
              "        background-color: #E8F0FE;\n",
              "        border: none;\n",
              "        border-radius: 50%;\n",
              "        cursor: pointer;\n",
              "        display: none;\n",
              "        fill: #1967D2;\n",
              "        height: 32px;\n",
              "        padding: 0 0 0 0;\n",
              "        width: 32px;\n",
              "      }\n",
              "\n",
              "      .colab-df-generate:hover {\n",
              "        background-color: #E2EBFA;\n",
              "        box-shadow: 0px 1px 2px rgba(60, 64, 67, 0.3), 0px 1px 3px 1px rgba(60, 64, 67, 0.15);\n",
              "        fill: #174EA6;\n",
              "      }\n",
              "\n",
              "      [theme=dark] .colab-df-generate {\n",
              "        background-color: #3B4455;\n",
              "        fill: #D2E3FC;\n",
              "      }\n",
              "\n",
              "      [theme=dark] .colab-df-generate:hover {\n",
              "        background-color: #434B5C;\n",
              "        box-shadow: 0px 1px 3px 1px rgba(0, 0, 0, 0.15);\n",
              "        filter: drop-shadow(0px 1px 2px rgba(0, 0, 0, 0.3));\n",
              "        fill: #FFFFFF;\n",
              "      }\n",
              "    </style>\n",
              "    <button class=\"colab-df-generate\" onclick=\"generateWithVariable('X_eval_transformed')\"\n",
              "            title=\"Generate code using this dataframe.\"\n",
              "            style=\"display:none;\">\n",
              "\n",
              "  <svg xmlns=\"http://www.w3.org/2000/svg\" height=\"24px\"viewBox=\"0 0 24 24\"\n",
              "       width=\"24px\">\n",
              "    <path d=\"M7,19H8.4L18.45,9,17,7.55,7,17.6ZM5,21V16.75L18.45,3.32a2,2,0,0,1,2.83,0l1.4,1.43a1.91,1.91,0,0,1,.58,1.4,1.91,1.91,0,0,1-.58,1.4L9.25,21ZM18.45,9,17,7.55Zm-12,3A5.31,5.31,0,0,0,4.9,8.1,5.31,5.31,0,0,0,1,6.5,5.31,5.31,0,0,0,4.9,4.9,5.31,5.31,0,0,0,6.5,1,5.31,5.31,0,0,0,8.1,4.9,5.31,5.31,0,0,0,12,6.5,5.46,5.46,0,0,0,6.5,12Z\"/>\n",
              "  </svg>\n",
              "    </button>\n",
              "    <script>\n",
              "      (() => {\n",
              "      const buttonEl =\n",
              "        document.querySelector('#id_3d32044f-7953-47b3-bf9d-18cfcb6f413c button.colab-df-generate');\n",
              "      buttonEl.style.display =\n",
              "        google.colab.kernel.accessAllowed ? 'block' : 'none';\n",
              "\n",
              "      buttonEl.onclick = () => {\n",
              "        google.colab.notebook.generateWithVariable('X_eval_transformed');\n",
              "      }\n",
              "      })();\n",
              "    </script>\n",
              "  </div>\n",
              "\n",
              "    </div>\n",
              "  </div>\n"
            ]
          },
          "metadata": {},
          "execution_count": 110
        }
      ]
    },
    {
      "cell_type": "markdown",
      "source": [
        "## Predicciones"
      ],
      "metadata": {
        "id": "uXbYNsGln0xj"
      }
    },
    {
      "cell_type": "markdown",
      "source": [
        "### Predicción de clasificación"
      ],
      "metadata": {
        "id": "WVSoGAOqZAa9"
      }
    },
    {
      "cell_type": "code",
      "source": [
        "# Predicción de clasificación\n",
        "classifier_model = ClassifierModel(model_path='nn_clf_model.h5')"
      ],
      "metadata": {
        "id": "NCucjHdTVB47"
      },
      "execution_count": 111,
      "outputs": []
    },
    {
      "cell_type": "code",
      "source": [
        "X_eval = X_eval_transformed\n",
        "clf_predictions = classifier_model.transform(X_eval)"
      ],
      "metadata": {
        "colab": {
          "base_uri": "https://localhost:8080/"
        },
        "id": "kAmYmInIWbEo",
        "outputId": "a635b8ca-0f55-4ab9-fbc5-2284cb78b114"
      },
      "execution_count": 112,
      "outputs": [
        {
          "output_type": "stream",
          "name": "stdout",
          "text": [
            "1/1 [==============================] - 0s 76ms/step\n"
          ]
        }
      ]
    },
    {
      "cell_type": "code",
      "source": [
        "clf_predictions"
      ],
      "metadata": {
        "colab": {
          "base_uri": "https://localhost:8080/"
        },
        "id": "1ouyYNTMWmYC",
        "outputId": "6acede78-7019-41cd-f706-e1625a0a0d64"
      },
      "execution_count": 113,
      "outputs": [
        {
          "output_type": "execute_result",
          "data": {
            "text/plain": [
              "array([[0.9993719]], dtype=float32)"
            ]
          },
          "metadata": {},
          "execution_count": 113
        }
      ]
    },
    {
      "cell_type": "code",
      "source": [
        "threshold = 0.5  # Umbral de decisión\n",
        "binary_predictions = (clf_predictions > threshold).astype(int)"
      ],
      "metadata": {
        "id": "6bfxE5iXWvlH"
      },
      "execution_count": 116,
      "outputs": []
    },
    {
      "cell_type": "code",
      "source": [
        "binary_predictions[0][0]"
      ],
      "metadata": {
        "colab": {
          "base_uri": "https://localhost:8080/"
        },
        "id": "jS8Eh6WyWy8a",
        "outputId": "1ad906a7-14ff-429b-ad1f-5fe8202d3b6c"
      },
      "execution_count": 117,
      "outputs": [
        {
          "output_type": "execute_result",
          "data": {
            "text/plain": [
              "1"
            ]
          },
          "metadata": {},
          "execution_count": 117
        }
      ]
    },
    {
      "cell_type": "code",
      "source": [
        "weather_label = \"llueve\" if binary_predictions[0][0] == 1 else \"no llueve\""
      ],
      "metadata": {
        "id": "Owkmy2ggXPag"
      },
      "execution_count": 118,
      "outputs": []
    },
    {
      "cell_type": "code",
      "source": [
        "print(\"Mañana\", weather_label, \"- Probabilidad:\", clf_predictions[0][0]*100)"
      ],
      "metadata": {
        "colab": {
          "base_uri": "https://localhost:8080/"
        },
        "id": "LgYO53DGXZQP",
        "outputId": "c60418b0-7721-4c97-83cb-7926f4c2d73e"
      },
      "execution_count": 120,
      "outputs": [
        {
          "output_type": "stream",
          "name": "stdout",
          "text": [
            "Mañana llueve - Probabilidad: 99.9371886253357\n"
          ]
        }
      ]
    },
    {
      "cell_type": "markdown",
      "source": [
        "### Predicción de regresión"
      ],
      "metadata": {
        "id": "RZAPCH6sZEk4"
      }
    },
    {
      "cell_type": "code",
      "source": [
        "# Predicción de Regresión\n",
        "regressor_model = RegressorModel(model_path='nn_reg_model.h5')"
      ],
      "metadata": {
        "id": "XMkPOEadVE2X"
      },
      "execution_count": 122,
      "outputs": []
    },
    {
      "cell_type": "code",
      "source": [
        "X_eval = X_eval_transformed\n",
        "reg_predictions = regressor_model.transform(X_eval)"
      ],
      "metadata": {
        "colab": {
          "base_uri": "https://localhost:8080/"
        },
        "id": "Adpwcaa1ZZXz",
        "outputId": "3365a9cc-0882-469b-d24b-3d15505d905a"
      },
      "execution_count": 123,
      "outputs": [
        {
          "output_type": "stream",
          "name": "stdout",
          "text": [
            "1/1 [==============================] - 0s 101ms/step\n"
          ]
        }
      ]
    },
    {
      "cell_type": "code",
      "source": [
        "reg_predictions[0][0]"
      ],
      "metadata": {
        "colab": {
          "base_uri": "https://localhost:8080/"
        },
        "id": "di0ao-wAZfIA",
        "outputId": "4ef46e1d-46c7-4280-bd24-e71f0e54209a"
      },
      "execution_count": 124,
      "outputs": [
        {
          "output_type": "execute_result",
          "data": {
            "text/plain": [
              "0.83832026"
            ]
          },
          "metadata": {},
          "execution_count": 124
        }
      ]
    },
    {
      "cell_type": "code",
      "source": [
        "rainfall_tomorrow_mean = 2.361242 # Reemplaza con el valor real\n",
        "rainfall_tomorrow_std = 8.479084  # Reemplaza con el valor real\n",
        "\n",
        "# Invertir la normalización manualmente\n",
        "original_prediction = (reg_predictions[0][0] * rainfall_tomorrow_std) + rainfall_tomorrow_mean"
      ],
      "metadata": {
        "id": "3XnXPDIRbpnY"
      },
      "execution_count": 125,
      "outputs": []
    },
    {
      "cell_type": "code",
      "source": [
        "original_prediction"
      ],
      "metadata": {
        "colab": {
          "base_uri": "https://localhost:8080/"
        },
        "id": "X_PGevyMeXdF",
        "outputId": "d43417fb-ca9b-436f-e9a6-b5f08a168e50"
      },
      "execution_count": 126,
      "outputs": [
        {
          "output_type": "execute_result",
          "data": {
            "text/plain": [
              "9.469429863416671"
            ]
          },
          "metadata": {},
          "execution_count": 126
        }
      ]
    }
  ]
}